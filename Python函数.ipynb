{
 "cells": [
  {
   "cell_type": "code",
   "execution_count": null,
   "id": "0a1b29e4",
   "metadata": {},
   "outputs": [],
   "source": [
    "# 函数组成\n",
    "def foo(nums):\n",
    "    \"\"\" 返回偶数序列\"\"\"\n",
    "    evens = []\n",
    "    for num in nums:\n",
    "        if num%2==0:\n",
    "            evens.append(num)\n",
    "    return evens\n",
    "\n",
    "#函数名：foo\n",
    "#函数形参：nums\n",
    "#:: 函数体的控制字符，作用类似Java或C++的一对{}\n",
    "#缩进：一般为4个字符\n",
    "#\"\"\"：为函数添加注释\n",
    "#return: 函数返回值"
   ]
  },
  {
   "cell_type": "code",
   "execution_count": null,
   "id": "a213bd7c",
   "metadata": {},
   "outputs": [],
   "source": [
    "# 引用传参\n",
    "# 定义好一个函数后，使用：函数名+()+实参，调用函数\n",
    "foo([10,2,5,4])"
   ]
  },
  {
   "cell_type": "code",
   "execution_count": null,
   "id": "24154562",
   "metadata": {},
   "outputs": [],
   "source": [
    "# 默认参数与关键字参数\n",
    "def foo(length,width,height=1.0):\n",
    "    return length*width*height\n",
    "r = foo(1.2,2.0)\n",
    "print(r) # 2.4"
   ]
  },
  {
   "cell_type": "code",
   "execution_count": null,
   "id": "5d5ddb82",
   "metadata": {},
   "outputs": [],
   "source": [
    "# 可变参数\n",
    "def foo(length,*others):\n",
    "    s = length\n",
    "    for para in others:\n",
    "        s *= para\n",
    "    return s\n",
    "foo(1.2,2.0,1.0) # 2.4"
   ]
  },
  {
   "cell_type": "code",
   "execution_count": null,
   "id": "e6478017",
   "metadata": {},
   "outputs": [],
   "source": [
    "# 内置函数\n",
    "pow(2,3) \n",
    "pow(2,3,5) \n",
    "max(2,3) \n",
    "min(2,3)\n",
    "d = {'a':0,'b':-2,'c':1}\n",
    "dr = sorted(d.items(),key=lambda x:abs(x[1])) \n",
    "print(dr) # [('a', 0), ('c', 1), ('b', -2)]"
   ]
  },
  {
   "cell_type": "code",
   "execution_count": null,
   "id": "e5d6a76b",
   "metadata": {},
   "outputs": [],
   "source": [
    "# 偏函数\n",
    "def int2(s):\n",
    "    return int(s,base=2)"
   ]
  },
  {
   "cell_type": "code",
   "execution_count": null,
   "id": "7146fcb6",
   "metadata": {},
   "outputs": [],
   "source": [
    "# 递归函数\n",
    "def reverseStr(s): \n",
    "    if not s:\n",
    "        return s \n",
    "    return reverseStr(s[1:])+s[0]\n",
    "\n",
    "print(reverseStr('nohtyp')) # python\n"
   ]
  },
  {
   "cell_type": "code",
   "execution_count": null,
   "id": "c3322167",
   "metadata": {},
   "outputs": [],
   "source": [
    "# 匿名函数\n",
    "# 匿名函数是指使用lambda关键字创建的函数\n",
    "# lambda 形参列表: 含有形参列表的表达式\n",
    "lambda x,y: x+y"
   ]
  },
  {
   "cell_type": "code",
   "execution_count": null,
   "id": "d91f5523",
   "metadata": {},
   "outputs": [],
   "source": [
    "# 可以用来接收另一个函数作为参数的函数叫做高阶函数\n",
    "\n",
    "# map\n",
    "m = map(lambda s: s.capitalize(), ['python','Very','BEAUTIFUL'])\n",
    "print(list(m))\n",
    "# reduce\n",
    "from functools import reduce \n",
    "\n",
    "def f(x,y):\n",
    "    return x+y\n",
    "\n",
    "r = reduce(f, [1,3,2,4])\n",
    "print(r) # 10"
   ]
  }
 ],
 "metadata": {
  "kernelspec": {
   "display_name": "Python 3 (ipykernel)",
   "language": "python",
   "name": "python3"
  },
  "language_info": {
   "codemirror_mode": {
    "name": "ipython",
    "version": 3
   },
   "file_extension": ".py",
   "mimetype": "text/x-python",
   "name": "python",
   "nbconvert_exporter": "python",
   "pygments_lexer": "ipython3",
   "version": "3.9.12"
  }
 },
 "nbformat": 4,
 "nbformat_minor": 5
}
