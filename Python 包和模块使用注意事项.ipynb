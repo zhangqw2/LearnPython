{
 "cells": [
  {
   "cell_type": "code",
   "execution_count": null,
   "id": "62726162",
   "metadata": {},
   "outputs": [],
   "source": [
    "# 包和模块的定义\n",
    "# 包(package)是一个文件夹，它里面会有一个__init__.py，以及其他.py文件\n",
    "# python中称为模块(module)，一个模块就是一个py文件，里面封装了一个功能模块，可能有函数、类、变量等。\n",
    "classdemo/\n",
    "├── animals\n",
    "│   ├── animal2.py\n",
    "│   ├── animal.py\n",
    "│   ├── __init__.py\n",
    "│   ├── manager2.py\n",
    "│   └── manager.py\n",
    "└── search\n",
    "    ├── binarytree_level.py\n",
    "    └── __init__.py"
   ]
  },
  {
   "cell_type": "code",
   "execution_count": null,
   "id": "ba3313d7",
   "metadata": {},
   "outputs": [],
   "source": [
    "# 解决变量命名冲突\n",
    "# 通过package名和模块拆分变量名"
   ]
  },
  {
   "cell_type": "code",
   "execution_count": null,
   "id": "5fea624b",
   "metadata": {},
   "outputs": [],
   "source": [
    "# __init__.py 作用\n",
    "__init__.py会使得普通的文件夹变为package\n",
    "因为在导入一个包时实际上导入它的__init__.py文件，利用此特性，可以在__init__.py文件中批量导入多个模块都在公用的模块，\n",
    "而不再需要一个一个的导入。\n",
    "\n"
   ]
  }
 ],
 "metadata": {
  "kernelspec": {
   "display_name": "Python 3 (ipykernel)",
   "language": "python",
   "name": "python3"
  },
  "language_info": {
   "codemirror_mode": {
    "name": "ipython",
    "version": 3
   },
   "file_extension": ".py",
   "mimetype": "text/x-python",
   "name": "python",
   "nbconvert_exporter": "python",
   "pygments_lexer": "ipython3",
   "version": "3.9.12"
  }
 },
 "nbformat": 4,
 "nbformat_minor": 5
}
