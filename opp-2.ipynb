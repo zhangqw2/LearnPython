{
 "cells": [
  {
   "cell_type": "code",
   "execution_count": null,
   "id": "195d6657",
   "metadata": {},
   "outputs": [],
   "source": [
    "# 创建抽象方法\n",
    "import abc\n",
    "\n",
    "class Animal():\n",
    "   cprop = \"我是类上的属性cprop\"\n",
    "\n",
    "   def __init__(self,name,speed):\n",
    "       self.name = name # 动物名字\n",
    "       self._speed = speed # 动物行走或飞行速度\n",
    "\n",
    "   def __str__(self):\n",
    "        return '''Animal({0.name},{0._speed}) is printed\n",
    "                name={0.name}\n",
    "                speed={0._speed}'''.format(self)\n",
    "\n",
    "   # 使用abstractmethod装饰器后，变为抽象方法\n",
    "   @abc.abstractmethod\n",
    "   def getSpeedBehavior(self):\n",
    "       pass\n"
   ]
  },
  {
   "cell_type": "code",
   "execution_count": null,
   "id": "f8c96b3c",
   "metadata": {},
   "outputs": [],
   "source": [
    "# 检查属性\n",
    "   # 读\n",
    "   @property \n",
    "   def _speed(self):\n",
    "       return self.__speed\n",
    "  # 写\n",
    "   @_speed.setter\n",
    "   def _speed(self,val):\n",
    "       if val < 0:\n",
    "           raise ValueError('speed value is negative')\n",
    "       self.__speed = val\n",
    "    \n",
    "# @property就是给_speed函数增加功能后返回一个更强大的函数，@属性.setter也是一个函数，装饰后控制着属性的写入操作。"
   ]
  },
  {
   "cell_type": "code",
   "execution_count": null,
   "id": "16bedd39",
   "metadata": {},
   "outputs": [],
   "source": [
    "# 给类添加属性\n",
    "if __name__ == \"__main__\":\n",
    "    jiafeimao = Cat('jiafeimao',2,'gray','CatGenre')\n",
    "\n",
    "    Cat.age = 1\n",
    "    jiafeimao.age = 3\n",
    "    print(jiafeimao.age) # 3 \n",
    "    jiqimao = Cat('jiqimao',3,'dark','CatGenre')\n",
    "    jiqimao.age = 5\n",
    "    print(jiqimao.age) # 5\n",
    "    \n",
    "# 一次为类添加一个属性，类的所有实例都会有这个新增的属性"
   ]
  },
  {
   "cell_type": "code",
   "execution_count": null,
   "id": "2e7b942c",
   "metadata": {},
   "outputs": [],
   "source": [
    "# 控制随意添加属性\n",
    "# 使用__slots__，定义这个类只能有哪些属性，不在这个元组里的属性添加都会失败。\n",
    "class Student(object):\n",
    "    __slots__ = ('name', 'age') # 用tuple定义允许绑定的属性名称\n",
    "\n",
    "    def __init__(self,name,age):\n",
    "        self.name = name\n",
    "        self.age = age\n",
    "\n",
    "\n",
    "s = Student('xiaoming',100) # 创建新的实例\n",
    "s.score=10"
   ]
  },
  {
   "cell_type": "code",
   "execution_count": null,
   "id": "70a2d1b1",
   "metadata": {},
   "outputs": [],
   "source": [
    "# 链式调用\n",
    "class Student(object):\n",
    "    __slots__ = ('name', 'age') # 用tuple定义允许绑定的属性名称\n",
    "\n",
    "    def __init__(self,name,age):\n",
    "        self.name = name\n",
    "        self.age = age\n",
    "\n",
    "    def set_name(self,val):\n",
    "        self.name = val \n",
    "        return self \n",
    "\n",
    "    def set_age(self,age):\n",
    "        self.age = age \n",
    "        return self\n",
    "\n",
    "    def print_info(self):\n",
    "        print(\"name: \"+self.name)\n",
    "        print(\"age: \"+ str(self.age))\n",
    "        return self\n",
    "\n",
    "s = Student('xiaoming',100) # 创建新的实例\n",
    "\n",
    "(\n",
    "    s\n",
    "    .set_name('xiaoming1')\n",
    "    .set_age(25)\n",
    "    .print_info()\n",
    ")"
   ]
  }
 ],
 "metadata": {
  "kernelspec": {
   "display_name": "Python 3 (ipykernel)",
   "language": "python",
   "name": "python3"
  },
  "language_info": {
   "codemirror_mode": {
    "name": "ipython",
    "version": 3
   },
   "file_extension": ".py",
   "mimetype": "text/x-python",
   "name": "python",
   "nbconvert_exporter": "python",
   "pygments_lexer": "ipython3",
   "version": "3.9.12"
  }
 },
 "nbformat": 4,
 "nbformat_minor": 5
}
