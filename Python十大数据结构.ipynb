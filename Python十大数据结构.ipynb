{
 "cells": [
  {
   "cell_type": "code",
   "execution_count": null,
   "id": "747f8b61",
   "metadata": {},
   "outputs": [],
   "source": [
    "# list、tuple、set、dict"
   ]
  },
  {
   "cell_type": "code",
   "execution_count": 1,
   "id": "926c6076",
   "metadata": {},
   "outputs": [
    {
     "data": {
      "text/plain": [
       "deque([3, 2, 4, 0])"
      ]
     },
     "execution_count": 1,
     "metadata": {},
     "output_type": "execute_result"
    }
   ],
   "source": [
    "# deque\n",
    "from collections import deque\n",
    "d = deque([3,2,4,0])                                                    \n",
    "d.popleft() # 左侧移除元素，O(1)时间复杂度                                                            \n",
    "d.appendleft(3) # 左侧添加元素，O(1)时间复杂度      \n",
    "d                                                                       \n",
    "# 实现原理 cpython实现deque使用默认长度64的数组，每次从左侧移除1个元素，leftindex加1，\n",
    "#如果超过64释放原来的内存块，再重新申请64长度的数组，并使用双端链表block管理内存块。"
   ]
  },
  {
   "cell_type": "code",
   "execution_count": null,
   "id": "630eafa4",
   "metadata": {},
   "outputs": [],
   "source": [
    "# Counter\n",
    "# 基本用法 Counter一种继承于dict用于统计元素个数的数据结构，也称为bag 或 multiset.\n",
    "from collections import Counter\n",
    " c = Counter([1,3,2,3,4,2,2]) # 统计每个元素的出现次数\n",
    "c                                                                      \n",
    "\n",
    "# 除此之外，还可以统计最常见的项\n",
    "# 如统计第1最常见的项，返回元素及其次数的元组\n",
    "c.most_common(1)                                                       \n",
    "# 实现原理 Counter实现基于dict，它将元素存储于keys上，出现次数为values."
   ]
  },
  {
   "cell_type": "code",
   "execution_count": null,
   "id": "d10f0a4b",
   "metadata": {},
   "outputs": [],
   "source": [
    "# OrderedDict\n",
    "# 基本用法 继承于dict，能确保keys值按照顺序取出来的数据结构\n",
    "from collections import OrderedDict   \n",
    "od = OrderedDict({'c':3,'a':1,'b':2})  \n",
    "for k,v in od.items(): \n",
    "    ...:     print(k,v) \n",
    "    ...:    \n",
    "        \n",
    "# 实现原理 你一定会好奇OrderedDict如何确保keys顺序的，\n",
    "# 翻看cpython看到它里面维护着一个双向链表self.__root，它维护着keys的顺序。"
   ]
  },
  {
   "cell_type": "code",
   "execution_count": null,
   "id": "30740f61",
   "metadata": {},
   "outputs": [],
   "source": [
    "# heapq\n",
    "# 基本用法 基于list优化的一个数据结构：堆队列，也称为优先队列。堆队列特点在于最小的元素总是在根结点\n",
    "import heapq\n",
    "a = [3,1,4,5,2,1]                                                      \n",
    "\n",
    "heapq.heapify(a) # 对a建堆，建堆后完成对a的就地排序\n",
    "a[0] # a[0]一定是最小元素\n",
    "a\n",
    "heapq.nlargest(3,a) # a的前3个最大元素                                                    \n",
    "heapq.nsmallest(3,a) # a的前3个最小元素                                                  \n"
   ]
  },
  {
   "cell_type": "code",
   "execution_count": null,
   "id": "ed464901",
   "metadata": {},
   "outputs": [],
   "source": [
    "# defaultdict\n",
    "# 基本用法 defaultdict是一种带有默认工厂的dict ，\n",
    "from collections import defaultdict\n",
    "d = defaultdict(list) # 创建字典值默认为list的字典\n",
    "for i,word in enumerate(words):\n",
    "    d[word] = i "
   ]
  },
  {
   "cell_type": "code",
   "execution_count": 2,
   "id": "88a42c84",
   "metadata": {},
   "outputs": [
    {
     "data": {
      "text/plain": [
       "ChainMap({'a': 1, 'c': 3, 'b': 2}, {'d': 1, 'e': 5})"
      ]
     },
     "execution_count": 2,
     "metadata": {},
     "output_type": "execute_result"
    }
   ],
   "source": [
    "# ChainMap\n",
    "# 如果有多个dict想要合并为一个大dict，那么ChainMap将是你的选择，它的方便性体现在同步更改\n",
    "from collections import ChainMap                                       \n",
    "d1 = {'a':1,'c':3,'b':2}                                               \n",
    "d2 = {'d':1,'e':5}                                                     \n",
    "dm = ChainMap(d1,d2)                                                   \n",
    "dm                                                                     "
   ]
  },
  {
   "cell_type": "code",
   "execution_count": null,
   "id": "1b25cd8b",
   "metadata": {},
   "outputs": [],
   "source": [
    "# ChainMap后返回一个大dict视图，如果修改其对应键值对，原小dict也会改变：\n",
    " dm.maps  # 返回一个字典list                                                               \n",
    "# [{'a': 2, 'c': 3, 'b': 2, 'd': 10}, {'d': 1, 'e': 5}]\n",
    "\n",
    " dm.maps[0]['d']=20   # 修改第一个dict的键等于'd'的值为20                         \n",
    "dm                                                                     \n",
    "# ChainMap({'a': 2, 'c': 3, 'b': 2, 'd': 20}, {'d': 1, 'e': 5})\n",
    "\n",
    "d1 # 原小dict的键值变为20                                                                    \n",
    "# {'a': 2, 'c': 3, 'b': 2, 'd': 20}\n",
    "# 实现原理 通过maps便能观察出ChainMap联合多个小dict装入list中，实际确实也是这样实现的，\n",
    "# 内部维护一个lis实例，其元素为小dict."
   ]
  }
 ],
 "metadata": {
  "kernelspec": {
   "display_name": "Python 3 (ipykernel)",
   "language": "python",
   "name": "python3"
  },
  "language_info": {
   "codemirror_mode": {
    "name": "ipython",
    "version": 3
   },
   "file_extension": ".py",
   "mimetype": "text/x-python",
   "name": "python",
   "nbconvert_exporter": "python",
   "pygments_lexer": "ipython3",
   "version": "3.9.12"
  }
 },
 "nbformat": 4,
 "nbformat_minor": 5
}
