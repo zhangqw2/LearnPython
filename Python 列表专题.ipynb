{
 "cells": [
  {
   "cell_type": "code",
   "execution_count": 11,
   "id": "30549719",
   "metadata": {},
   "outputs": [],
   "source": [
    "# 创建。一般数组内的元素要求同一类型，但是列表内可含有各种不同类型\n",
    "a = [] # 空列表\n",
    "a = [3,7,4,2,6] #创建一个含有 5 个整型元素的列表a"
   ]
  },
  {
   "cell_type": "code",
   "execution_count": 15,
   "id": "e72a3258",
   "metadata": {},
   "outputs": [
    {
     "name": "stdout",
     "output_type": "stream",
     "text": [
      "[3, 4, 6]\n"
     ]
    }
   ],
   "source": [
    "# 访问元素 索引和切片\n",
    "a[0] # 3\n",
    "a[1:3] # 7,4\n",
    "a[-3:] # 6\n",
    "a[::2] # 得到切片间隔为2,  3  4 6\n",
    "print(a[::2])"
   ]
  },
  {
   "cell_type": "code",
   "execution_count": 18,
   "id": "52c1b6ed",
   "metadata": {},
   "outputs": [
    {
     "data": {
      "text/plain": [
       "[3, 7, 5, 4, 2, 6, 1, 0, 10, 11, 21]"
      ]
     },
     "execution_count": 18,
     "metadata": {},
     "output_type": "execute_result"
    }
   ],
   "source": [
    "# 添加元素\n",
    "a=[3,7,4,2,6]\n",
    "a.append(1) # append默认在列表尾部添加元素\n",
    "a.insert(2,5) # insert 在索引2处添加元素5\n",
    "a.extend([0,10])# 一次就地添加0,10两个元素\n",
    "b = a+[11,21] # + 不是就地添加，而是重新创建一个新的列表\n",
    "b"
   ]
  },
  {
   "cell_type": "code",
   "execution_count": 21,
   "id": "220297e2",
   "metadata": {},
   "outputs": [
    {
     "data": {
      "text/plain": [
       "[1, 2, 4]"
      ]
     },
     "execution_count": 21,
     "metadata": {},
     "output_type": "execute_result"
    }
   ],
   "source": [
    "# 删除元素\n",
    "#remove直接删除元素，若被删除元素在列表内重复出现多次，则只删除第一次：\n",
    "a=[1,2,3,2,4,2]\n",
    "a.remove(2)\n",
    "# pop方法若不带参数默认删除列表最后一个元素；若带参数则删除此参数代表的索引处的元素\n",
    "a.pop() # 删除最后一个元素\n",
    "a.pop(1) # 删除索引等于1的元素\n",
    "del a[1:] # 删除索引1到最后的切片序列\n",
    "a"
   ]
  },
  {
   "cell_type": "code",
   "execution_count": 25,
   "id": "6cf6f8b7",
   "metadata": {},
   "outputs": [
    {
     "name": "stdout",
     "output_type": "stream",
     "text": [
      "3\n",
      "7\n",
      "4\n",
      "2\n",
      "6\n"
     ]
    },
    {
     "data": {
      "text/plain": [
       "['Hi!', 'Hi!', 'Hi!', 'Hi!']"
      ]
     },
     "execution_count": 25,
     "metadata": {},
     "output_type": "execute_result"
    }
   ],
   "source": [
    "# list 和 in\n",
    "a = [3,7,4,2,6]\n",
    "for item in a:\n",
    "    print(item)\n",
    "    \n",
    "4 in a\n",
    "\n",
    "['Hi!'] * 4 #内置的list与数字结合，实现元素的复制"
   ]
  },
  {
   "cell_type": "code",
   "execution_count": 26,
   "id": "0956756b",
   "metadata": {},
   "outputs": [],
   "source": [
    "# 列表生成式\n",
    "a=[i for i in range(50) if i&1]"
   ]
  },
  {
   "cell_type": "code",
   "execution_count": 30,
   "id": "e43eaf5c",
   "metadata": {},
   "outputs": [
    {
     "data": {
      "text/plain": [
       "[-2, 3, 1]"
      ]
     },
     "execution_count": 30,
     "metadata": {},
     "output_type": "execute_result"
    }
   ],
   "source": [
    "# clear`,`index`,`count`,`sort`,`reverse`,`copy`\n",
    "#clear 用于清空列表内的所有元素\n",
    "\n",
    "#index 用于查找里面某个元素的索引\n",
    "a=[1,3,7]\n",
    "a.index(7)\n",
    "#count 用于统计某元素的出现次数：\n",
    "a=[1,2,3,2,2,5]\n",
    "a.count(2)\n",
    "# sort 用于元素排序，其中参数key定制排序规则。\n",
    "a=[(3,1),(4,1),(1,3),(5,4),(9,-10)]\n",
    "a.sort(key=lambda x:x[1])\n",
    "# reverse 完成列表反转\n",
    "a=[1,3,-2]\n",
    "a.reverse()\n",
    "c =[1,3,5]\n",
    "cc = c.copy() #浅拷贝\n",
    "\n",
    "a"
   ]
  },
  {
   "cell_type": "code",
   "execution_count": null,
   "id": "98eb99eb",
   "metadata": {},
   "outputs": [],
   "source": []
  }
 ],
 "metadata": {
  "kernelspec": {
   "display_name": "Python 3 (ipykernel)",
   "language": "python",
   "name": "python3"
  },
  "language_info": {
   "codemirror_mode": {
    "name": "ipython",
    "version": 3
   },
   "file_extension": ".py",
   "mimetype": "text/x-python",
   "name": "python",
   "nbconvert_exporter": "python",
   "pygments_lexer": "ipython3",
   "version": "3.9.12"
  }
 },
 "nbformat": 4,
 "nbformat_minor": 5
}
