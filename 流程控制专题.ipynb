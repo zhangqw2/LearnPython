{
 "cells": [
  {
   "cell_type": "code",
   "execution_count": null,
   "id": "22da9f4e",
   "metadata": {},
   "outputs": [],
   "source": [
    "# if 对应逻辑控制的条件语句，它的基本结构可以表示为：如果满足某个条件，则怎么怎么样。\n",
    "\n",
    "def maxChunksToSort(nums):\n",
    "    maxn, count = nums[0], 0\n",
    "    for i,num in enumerate(nums):\n",
    "        maxn = max(maxn, num)\n",
    "        if i == maxn:\n",
    "            count += 1\n",
    "    return count\n",
    "\n",
    "# if后的语句指定了一个条件，若满足if则，:后的语句成立。\n",
    "\n",
    "# 如果if不满足，再使用elif判断其他情况，可以一直写elif，若是最后一个判断条件，可使用else，其基本结构为：\n",
    "if A:\n",
    "    print('condition A meets')\n",
    "elif B:\n",
    "    print('condition B meets')\n",
    "elif C:\n",
    "    print('condition C meets')\n",
    "else:\n",
    "    print('other conditions meets')\n",
    "    "
   ]
  },
  {
   "cell_type": "code",
   "execution_count": null,
   "id": "6dc2c29c",
   "metadata": {},
   "outputs": [],
   "source": [
    "# Python的for除了具备控制循环次数外，还能直接迭代容器中的元素。\n",
    "# 控制循环\n",
    "for i in range(1, len(nums)):\n",
    "    print(i)\n",
    "    \n",
    "# 直接操作容器内的元素\n",
    "a = [1, [2, 4], [5, 7]]\n",
    "for item in a:\n",
    "    print(item)"
   ]
  },
  {
   "cell_type": "code",
   "execution_count": null,
   "id": "99326014",
   "metadata": {},
   "outputs": [],
   "source": [
    "# while,break,continue\n",
    "# while后面紧跟一个判断条件，若满足条件则会一直循环，直到不满足条件时退出。但这不是绝对的，如果while后的语句块内含有break，即便条件依然满足，但遇到break也会一样退出。\n",
    "while True:\n",
    "    a = input('please input an Integer: ')\n",
    "    try:\n",
    "        ai = int(a)\n",
    "        print('输入了一个整数 %d ，input 结束' % (ai,))\n",
    "        break\n",
    "    except:\n",
    "        print(\"%s isn't a Integer\" % (a,))\n",
    " # continue与最近的循环语句for或while组合，表示接下来循环体内的语句不执行，重新进入下一次遍历。       \n",
    "def f(nums):\n",
    "    for num in nums:\n",
    "        if num <= 0:\n",
    "            continue\n",
    "        print('得到一个大于0的数 %d' % (num,))"
   ]
  },
  {
   "cell_type": "code",
   "execution_count": 2,
   "id": "ff3af978",
   "metadata": {},
   "outputs": [
    {
     "data": {
      "text/plain": [
       "[1, 2, 3, 4, 5, 6, 7, 8, 9]"
      ]
     },
     "execution_count": 2,
     "metadata": {},
     "output_type": "execute_result"
    }
   ],
   "source": [
    "#  range 序列\n",
    "list(range(1,10))"
   ]
  },
  {
   "cell_type": "code",
   "execution_count": null,
   "id": "bae9fec1",
   "metadata": {},
   "outputs": [],
   "source": [
    "# for能和else组对\n",
    "for num in range(2, 16):\n",
    "    is_prime = True \n",
    "    for item in range(2, num):\n",
    "        if num % item == 0:\n",
    "            print('%d = %d*%d ' % (num, item, num // item))\n",
    "            is_prime = False\n",
    "            break\n",
    "    if is_prime:\n",
    "        print(\"%d is prime\" % (num))\n",
    "        \n",
    "#try,except 和 else 组对\n",
    "\n",
    "       while True:\n",
    "            try:\n",
    "                a = int(input('请输入一个整数: '))\n",
    "            except ValueError:\n",
    "            print('input value is not a valid number')\n",
    "            else:\n",
    "                if a % 2 == 0:\n",
    "                    print('输入的 %d 是偶数' %(a,))\n",
    "                else:\n",
    "                    print('输入的 %d 是奇数' %(a,))\n",
    "                break"
   ]
  },
  {
   "cell_type": "code",
   "execution_count": null,
   "id": "0830597e",
   "metadata": {},
   "outputs": [],
   "source": [
    "# pass 与接口\n",
    "# 放在类或函数里，表示类和函数暂不定义\n",
    "class PassClass:\n",
    "    pass\n",
    "\n",
    "def PassFun():\n",
    "    pass "
   ]
  },
  {
   "cell_type": "code",
   "execution_count": null,
   "id": "3ca362bd",
   "metadata": {},
   "outputs": [],
   "source": [
    "# return 和 yield\n",
    "# 与return不同，yield中断返回后，下一次迭代会进入到yield后面的下一行代码，而不像return下一次执行还是从函数体的第一句开始执行。\n",
    "\n"
   ]
  },
  {
   "cell_type": "code",
   "execution_count": null,
   "id": "927076e3",
   "metadata": {},
   "outputs": [],
   "source": [
    "# 短路原则\n",
    "# 布尔运算符 and 和 or 也被称为短路运算符：它们的参数从左至右解析，一旦可以确定结果解析就会停止\n",
    "#Python中的短路运算符常见的有两个：and , or\n",
    "#A and B : 如果 A 不成立，B 不会执行\n",
    "#A or B : 如过 A 成立，B不会执行\n",
    "\n",
    "a = ''\n",
    "b = a and 'i will not execute'\n",
    "print(b)\n",
    "\n",
    "a = 'python'\n",
    "b = a or 'i will not execute'\n",
    "print(b)"
   ]
  }
 ],
 "metadata": {
  "kernelspec": {
   "display_name": "Python 3 (ipykernel)",
   "language": "python",
   "name": "python3"
  },
  "language_info": {
   "codemirror_mode": {
    "name": "ipython",
    "version": 3
   },
   "file_extension": ".py",
   "mimetype": "text/x-python",
   "name": "python",
   "nbconvert_exporter": "python",
   "pygments_lexer": "ipython3",
   "version": "3.9.12"
  }
 },
 "nbformat": 4,
 "nbformat_minor": 5
}
