{
 "cells": [
  {
   "cell_type": "code",
   "execution_count": 1,
   "id": "05dbafc0",
   "metadata": {},
   "outputs": [
    {
     "data": {
      "text/plain": [
       "'hello word          '"
      ]
     },
     "execution_count": 1,
     "metadata": {},
     "output_type": "execute_result"
    }
   ],
   "source": [
    "# 1 左对齐字符串\n",
    "# 使得总长度为 20\n",
    "text = 'hello word'\n",
    "text.ljust(20)"
   ]
  },
  {
   "cell_type": "code",
   "execution_count": 2,
   "id": "c2a6deba",
   "metadata": {},
   "outputs": [
    {
     "data": {
      "text/plain": [
       "'          hello word'"
      ]
     },
     "execution_count": 2,
     "metadata": {},
     "output_type": "execute_result"
    }
   ],
   "source": [
    "# 2 右对齐字符串\n",
    "# 使得总长度为 20 \n",
    "text.rjust(20)                 "
   ]
  },
  {
   "cell_type": "code",
   "execution_count": 3,
   "id": "88be5e8f",
   "metadata": {},
   "outputs": [
    {
     "data": {
      "text/plain": [
       "'     hello word     '"
      ]
     },
     "execution_count": 3,
     "metadata": {},
     "output_type": "execute_result"
    }
   ],
   "source": [
    "# 3 中间对齐字符串\n",
    "# 使得总长度为 20 \n",
    "\n",
    "text.center(20)                   "
   ]
  },
  {
   "cell_type": "code",
   "execution_count": 4,
   "id": "79381c87",
   "metadata": {},
   "outputs": [
    {
     "data": {
      "text/plain": [
       "'          hello word'"
      ]
     },
     "execution_count": 4,
     "metadata": {},
     "output_type": "execute_result"
    }
   ],
   "source": [
    "# 4 右对齐字符串\n",
    "# 使得总长度为 20 \n",
    "\n",
    "format(text, '>20')"
   ]
  },
  {
   "cell_type": "code",
   "execution_count": 5,
   "id": "3c6f774f",
   "metadata": {},
   "outputs": [
    {
     "data": {
      "text/plain": [
       "'hello word          '"
      ]
     },
     "execution_count": 5,
     "metadata": {},
     "output_type": "execute_result"
    }
   ],
   "source": [
    "# 5 左对齐字符串\n",
    "# 使得总长度为 20 \n",
    "format(text, '<20')"
   ]
  },
  {
   "cell_type": "code",
   "execution_count": 7,
   "id": "84ef74a3",
   "metadata": {},
   "outputs": [
    {
     "data": {
      "text/plain": [
       "'     hello word     '"
      ]
     },
     "execution_count": 7,
     "metadata": {},
     "output_type": "execute_result"
    }
   ],
   "source": [
    "# 6 中间对齐字符串\n",
    "# 使得总长度为 20 \n",
    "format(text, '^20')"
   ]
  },
  {
   "cell_type": "code",
   "execution_count": 8,
   "id": "c97511e1",
   "metadata": {},
   "outputs": [
    {
     "data": {
      "text/plain": [
       "'-----hello word-----'"
      ]
     },
     "execution_count": 8,
     "metadata": {},
     "output_type": "execute_result"
    }
   ],
   "source": [
    "# 7 中间对齐字符串，并用-填充\n",
    "# 使得总长度为 20  \n",
    "format(text, '-^20')"
   ]
  },
  {
   "cell_type": "code",
   "execution_count": 9,
   "id": "db8d9aa4",
   "metadata": {},
   "outputs": [
    {
     "name": "stdout",
     "output_type": "stream",
     "text": [
      "我是安装nlp包\n",
      "corpy，\n",
      "...: 服务器是腾\n",
      "讯Ubuntu\n",
      "18.04 ，\n",
      "...: 使用\n",
      "pip 安装优先走腾\n",
      "讯index源，\n",
      "...: 很遗憾安装\n",
      "到中间，安装依赖包 \n",
      "ufdl.udpip\n",
      "e\n"
     ]
    }
   ],
   "source": [
    "# 8 每行固定显示10个字符\n",
    "s=\"\"\"我是安装nlp包 corpy， \n",
    "    ...: 服务器是腾讯Ubuntu 18.04 ， \n",
    "    ...: 使用 pip 安装优先走腾讯index源， \n",
    "    ...: 很遗憾安装到中间，安装依赖包 ufdl.udpipe \"\"\"\n",
    "import textwrap\n",
    "print(textwrap.fill(s, 10)) "
   ]
  },
  {
   "cell_type": "code",
   "execution_count": null,
   "id": "fd654234",
   "metadata": {},
   "outputs": [],
   "source": []
  }
 ],
 "metadata": {
  "kernelspec": {
   "display_name": "Python 3 (ipykernel)",
   "language": "python",
   "name": "python3"
  },
  "language_info": {
   "codemirror_mode": {
    "name": "ipython",
    "version": 3
   },
   "file_extension": ".py",
   "mimetype": "text/x-python",
   "name": "python",
   "nbconvert_exporter": "python",
   "pygments_lexer": "ipython3",
   "version": "3.9.12"
  }
 },
 "nbformat": 4,
 "nbformat_minor": 5
}
